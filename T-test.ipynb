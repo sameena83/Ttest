{
 "cells": [
  {
   "cell_type": "code",
   "execution_count": 10,
   "metadata": {},
   "outputs": [],
   "source": [
    "import pandas as pd\n",
    "import scipy.stats as stats\n",
    "from scipy.stats import ttest_rel\n",
    "import seaborn as sns\n",
    "import matplotlib.pyplot as plt\n",
    "from matplotlib import pyplot\n",
    "import numpy as np\n",
    "from statsmodels.graphics.gofplots import qqplot"
   ]
  },
  {
   "cell_type": "code",
   "execution_count": 2,
   "metadata": {},
   "outputs": [
    {
     "data": {
      "text/html": [
       "<div>\n",
       "<style scoped>\n",
       "    .dataframe tbody tr th:only-of-type {\n",
       "        vertical-align: middle;\n",
       "    }\n",
       "\n",
       "    .dataframe tbody tr th {\n",
       "        vertical-align: top;\n",
       "    }\n",
       "\n",
       "    .dataframe thead th {\n",
       "        text-align: right;\n",
       "    }\n",
       "</style>\n",
       "<table border=\"1\" class=\"dataframe\">\n",
       "  <thead>\n",
       "    <tr style=\"text-align: right;\">\n",
       "      <th></th>\n",
       "      <th>Datasets</th>\n",
       "      <th>NB</th>\n",
       "      <th>C45</th>\n",
       "      <th>SVML</th>\n",
       "      <th>SVMQ</th>\n",
       "      <th>Logistic</th>\n",
       "      <th>BN</th>\n",
       "      <th>RandF</th>\n",
       "      <th>RotF</th>\n",
       "      <th>MLP</th>\n",
       "      <th>...</th>\n",
       "      <th>BOSS</th>\n",
       "      <th>TSF</th>\n",
       "      <th>TSBF</th>\n",
       "      <th>LPS</th>\n",
       "      <th>ACF</th>\n",
       "      <th>PS</th>\n",
       "      <th>EE</th>\n",
       "      <th>CID_DTW</th>\n",
       "      <th>Flat-COTE</th>\n",
       "      <th>HIVE-COTE</th>\n",
       "    </tr>\n",
       "  </thead>\n",
       "  <tbody>\n",
       "    <tr>\n",
       "      <th>0</th>\n",
       "      <td>Adiac</td>\n",
       "      <td>0.544501</td>\n",
       "      <td>0.492916</td>\n",
       "      <td>0.410179</td>\n",
       "      <td>0.734731</td>\n",
       "      <td>0.621637</td>\n",
       "      <td>0.496573</td>\n",
       "      <td>0.646803</td>\n",
       "      <td>0.753632</td>\n",
       "      <td>0.728670</td>\n",
       "      <td>...</td>\n",
       "      <td>0.749412</td>\n",
       "      <td>0.707187</td>\n",
       "      <td>0.726777</td>\n",
       "      <td>0.764962</td>\n",
       "      <td>0.657545</td>\n",
       "      <td>0.741816</td>\n",
       "      <td>0.664962</td>\n",
       "      <td>0.627391</td>\n",
       "      <td>0.809847</td>\n",
       "      <td>0.815396</td>\n",
       "    </tr>\n",
       "    <tr>\n",
       "      <th>1</th>\n",
       "      <td>ArrowHead</td>\n",
       "      <td>0.673371</td>\n",
       "      <td>0.638400</td>\n",
       "      <td>0.811829</td>\n",
       "      <td>0.807486</td>\n",
       "      <td>0.713714</td>\n",
       "      <td>0.705829</td>\n",
       "      <td>0.775200</td>\n",
       "      <td>0.789257</td>\n",
       "      <td>0.787771</td>\n",
       "      <td>...</td>\n",
       "      <td>0.875200</td>\n",
       "      <td>0.789371</td>\n",
       "      <td>0.800857</td>\n",
       "      <td>0.806286</td>\n",
       "      <td>0.694514</td>\n",
       "      <td>0.724514</td>\n",
       "      <td>0.859657</td>\n",
       "      <td>0.829143</td>\n",
       "      <td>0.876800</td>\n",
       "      <td>0.887657</td>\n",
       "    </tr>\n",
       "    <tr>\n",
       "      <th>2</th>\n",
       "      <td>Beef</td>\n",
       "      <td>0.506333</td>\n",
       "      <td>0.492667</td>\n",
       "      <td>0.737000</td>\n",
       "      <td>0.766000</td>\n",
       "      <td>0.818000</td>\n",
       "      <td>0.507333</td>\n",
       "      <td>0.598667</td>\n",
       "      <td>0.818667</td>\n",
       "      <td>0.739333</td>\n",
       "      <td>...</td>\n",
       "      <td>0.615000</td>\n",
       "      <td>0.647667</td>\n",
       "      <td>0.554333</td>\n",
       "      <td>0.519667</td>\n",
       "      <td>0.584667</td>\n",
       "      <td>0.709333</td>\n",
       "      <td>0.532000</td>\n",
       "      <td>0.530667</td>\n",
       "      <td>0.764000</td>\n",
       "      <td>0.722667</td>\n",
       "    </tr>\n",
       "    <tr>\n",
       "      <th>3</th>\n",
       "      <td>BeetleFly</td>\n",
       "      <td>0.746000</td>\n",
       "      <td>0.687500</td>\n",
       "      <td>0.762500</td>\n",
       "      <td>0.769000</td>\n",
       "      <td>0.750000</td>\n",
       "      <td>0.743000</td>\n",
       "      <td>0.756500</td>\n",
       "      <td>0.791000</td>\n",
       "      <td>0.764000</td>\n",
       "      <td>...</td>\n",
       "      <td>0.948500</td>\n",
       "      <td>0.842500</td>\n",
       "      <td>0.798500</td>\n",
       "      <td>0.892500</td>\n",
       "      <td>0.799500</td>\n",
       "      <td>0.842000</td>\n",
       "      <td>0.822500</td>\n",
       "      <td>0.806000</td>\n",
       "      <td>0.921000</td>\n",
       "      <td>0.959000</td>\n",
       "    </tr>\n",
       "    <tr>\n",
       "      <th>4</th>\n",
       "      <td>BirdChicken</td>\n",
       "      <td>0.628500</td>\n",
       "      <td>0.745500</td>\n",
       "      <td>0.682000</td>\n",
       "      <td>0.744500</td>\n",
       "      <td>0.630500</td>\n",
       "      <td>0.751500</td>\n",
       "      <td>0.772000</td>\n",
       "      <td>0.747500</td>\n",
       "      <td>0.708500</td>\n",
       "      <td>...</td>\n",
       "      <td>0.984000</td>\n",
       "      <td>0.838500</td>\n",
       "      <td>0.902000</td>\n",
       "      <td>0.854000</td>\n",
       "      <td>0.887500</td>\n",
       "      <td>0.941000</td>\n",
       "      <td>0.848000</td>\n",
       "      <td>0.848500</td>\n",
       "      <td>0.941000</td>\n",
       "      <td>0.950500</td>\n",
       "    </tr>\n",
       "    <tr>\n",
       "      <th>...</th>\n",
       "      <td>...</td>\n",
       "      <td>...</td>\n",
       "      <td>...</td>\n",
       "      <td>...</td>\n",
       "      <td>...</td>\n",
       "      <td>...</td>\n",
       "      <td>...</td>\n",
       "      <td>...</td>\n",
       "      <td>...</td>\n",
       "      <td>...</td>\n",
       "      <td>...</td>\n",
       "      <td>...</td>\n",
       "      <td>...</td>\n",
       "      <td>...</td>\n",
       "      <td>...</td>\n",
       "      <td>...</td>\n",
       "      <td>...</td>\n",
       "      <td>...</td>\n",
       "      <td>...</td>\n",
       "      <td>...</td>\n",
       "      <td>...</td>\n",
       "    </tr>\n",
       "    <tr>\n",
       "      <th>80</th>\n",
       "      <td>Wine</td>\n",
       "      <td>0.612778</td>\n",
       "      <td>0.756481</td>\n",
       "      <td>0.864815</td>\n",
       "      <td>0.918148</td>\n",
       "      <td>0.938519</td>\n",
       "      <td>0.725370</td>\n",
       "      <td>0.863519</td>\n",
       "      <td>0.918519</td>\n",
       "      <td>0.900556</td>\n",
       "      <td>...</td>\n",
       "      <td>0.911667</td>\n",
       "      <td>0.880556</td>\n",
       "      <td>0.879259</td>\n",
       "      <td>0.884259</td>\n",
       "      <td>0.773704</td>\n",
       "      <td>0.798704</td>\n",
       "      <td>0.886667</td>\n",
       "      <td>0.891296</td>\n",
       "      <td>0.903519</td>\n",
       "      <td>0.912037</td>\n",
       "    </tr>\n",
       "    <tr>\n",
       "      <th>81</th>\n",
       "      <td>WordSynonyms</td>\n",
       "      <td>0.481614</td>\n",
       "      <td>0.374044</td>\n",
       "      <td>0.530110</td>\n",
       "      <td>0.587351</td>\n",
       "      <td>0.338981</td>\n",
       "      <td>0.250141</td>\n",
       "      <td>0.565580</td>\n",
       "      <td>0.586113</td>\n",
       "      <td>0.554342</td>\n",
       "      <td>...</td>\n",
       "      <td>0.658762</td>\n",
       "      <td>0.643464</td>\n",
       "      <td>0.668981</td>\n",
       "      <td>0.728135</td>\n",
       "      <td>0.393699</td>\n",
       "      <td>0.371003</td>\n",
       "      <td>0.778401</td>\n",
       "      <td>0.738339</td>\n",
       "      <td>0.748072</td>\n",
       "      <td>0.747962</td>\n",
       "    </tr>\n",
       "    <tr>\n",
       "      <th>82</th>\n",
       "      <td>Worms</td>\n",
       "      <td>0.342727</td>\n",
       "      <td>0.406883</td>\n",
       "      <td>0.386753</td>\n",
       "      <td>0.480779</td>\n",
       "      <td>0.392468</td>\n",
       "      <td>0.414026</td>\n",
       "      <td>0.591948</td>\n",
       "      <td>0.604675</td>\n",
       "      <td>0.406104</td>\n",
       "      <td>...</td>\n",
       "      <td>0.734935</td>\n",
       "      <td>0.627922</td>\n",
       "      <td>0.668442</td>\n",
       "      <td>0.641558</td>\n",
       "      <td>0.718831</td>\n",
       "      <td>0.684156</td>\n",
       "      <td>0.644416</td>\n",
       "      <td>0.633377</td>\n",
       "      <td>0.725065</td>\n",
       "      <td>0.734026</td>\n",
       "    </tr>\n",
       "    <tr>\n",
       "      <th>83</th>\n",
       "      <td>WormsTwoClass</td>\n",
       "      <td>0.545714</td>\n",
       "      <td>0.600390</td>\n",
       "      <td>0.544545</td>\n",
       "      <td>0.592078</td>\n",
       "      <td>0.569221</td>\n",
       "      <td>0.561688</td>\n",
       "      <td>0.628052</td>\n",
       "      <td>0.656883</td>\n",
       "      <td>0.598571</td>\n",
       "      <td>...</td>\n",
       "      <td>0.809740</td>\n",
       "      <td>0.685065</td>\n",
       "      <td>0.754935</td>\n",
       "      <td>0.742597</td>\n",
       "      <td>0.770390</td>\n",
       "      <td>0.759351</td>\n",
       "      <td>0.717403</td>\n",
       "      <td>0.735844</td>\n",
       "      <td>0.785195</td>\n",
       "      <td>0.783896</td>\n",
       "    </tr>\n",
       "    <tr>\n",
       "      <th>84</th>\n",
       "      <td>Yoga</td>\n",
       "      <td>0.562523</td>\n",
       "      <td>0.726993</td>\n",
       "      <td>0.622967</td>\n",
       "      <td>0.808597</td>\n",
       "      <td>0.634410</td>\n",
       "      <td>0.629983</td>\n",
       "      <td>0.835633</td>\n",
       "      <td>0.853710</td>\n",
       "      <td>0.827290</td>\n",
       "      <td>...</td>\n",
       "      <td>0.909940</td>\n",
       "      <td>0.867010</td>\n",
       "      <td>0.834537</td>\n",
       "      <td>0.873663</td>\n",
       "      <td>0.783467</td>\n",
       "      <td>0.719137</td>\n",
       "      <td>0.885417</td>\n",
       "      <td>0.857933</td>\n",
       "      <td>0.897800</td>\n",
       "      <td>0.917020</td>\n",
       "    </tr>\n",
       "  </tbody>\n",
       "</table>\n",
       "<p>85 rows × 39 columns</p>\n",
       "</div>"
      ],
      "text/plain": [
       "         Datasets        NB       C45      SVML      SVMQ  Logistic        BN  \\\n",
       "0           Adiac  0.544501  0.492916  0.410179  0.734731  0.621637  0.496573   \n",
       "1       ArrowHead  0.673371  0.638400  0.811829  0.807486  0.713714  0.705829   \n",
       "2            Beef  0.506333  0.492667  0.737000  0.766000  0.818000  0.507333   \n",
       "3       BeetleFly  0.746000  0.687500  0.762500  0.769000  0.750000  0.743000   \n",
       "4     BirdChicken  0.628500  0.745500  0.682000  0.744500  0.630500  0.751500   \n",
       "..            ...       ...       ...       ...       ...       ...       ...   \n",
       "80           Wine  0.612778  0.756481  0.864815  0.918148  0.938519  0.725370   \n",
       "81   WordSynonyms  0.481614  0.374044  0.530110  0.587351  0.338981  0.250141   \n",
       "82          Worms  0.342727  0.406883  0.386753  0.480779  0.392468  0.414026   \n",
       "83  WormsTwoClass  0.545714  0.600390  0.544545  0.592078  0.569221  0.561688   \n",
       "84           Yoga  0.562523  0.726993  0.622967  0.808597  0.634410  0.629983   \n",
       "\n",
       "       RandF      RotF       MLP  ...      BOSS       TSF      TSBF       LPS  \\\n",
       "0   0.646803  0.753632  0.728670  ...  0.749412  0.707187  0.726777  0.764962   \n",
       "1   0.775200  0.789257  0.787771  ...  0.875200  0.789371  0.800857  0.806286   \n",
       "2   0.598667  0.818667  0.739333  ...  0.615000  0.647667  0.554333  0.519667   \n",
       "3   0.756500  0.791000  0.764000  ...  0.948500  0.842500  0.798500  0.892500   \n",
       "4   0.772000  0.747500  0.708500  ...  0.984000  0.838500  0.902000  0.854000   \n",
       "..       ...       ...       ...  ...       ...       ...       ...       ...   \n",
       "80  0.863519  0.918519  0.900556  ...  0.911667  0.880556  0.879259  0.884259   \n",
       "81  0.565580  0.586113  0.554342  ...  0.658762  0.643464  0.668981  0.728135   \n",
       "82  0.591948  0.604675  0.406104  ...  0.734935  0.627922  0.668442  0.641558   \n",
       "83  0.628052  0.656883  0.598571  ...  0.809740  0.685065  0.754935  0.742597   \n",
       "84  0.835633  0.853710  0.827290  ...  0.909940  0.867010  0.834537  0.873663   \n",
       "\n",
       "         ACF        PS        EE   CID_DTW  Flat-COTE  HIVE-COTE  \n",
       "0   0.657545  0.741816  0.664962  0.627391   0.809847   0.815396  \n",
       "1   0.694514  0.724514  0.859657  0.829143   0.876800   0.887657  \n",
       "2   0.584667  0.709333  0.532000  0.530667   0.764000   0.722667  \n",
       "3   0.799500  0.842000  0.822500  0.806000   0.921000   0.959000  \n",
       "4   0.887500  0.941000  0.848000  0.848500   0.941000   0.950500  \n",
       "..       ...       ...       ...       ...        ...        ...  \n",
       "80  0.773704  0.798704  0.886667  0.891296   0.903519   0.912037  \n",
       "81  0.393699  0.371003  0.778401  0.738339   0.748072   0.747962  \n",
       "82  0.718831  0.684156  0.644416  0.633377   0.725065   0.734026  \n",
       "83  0.770390  0.759351  0.717403  0.735844   0.785195   0.783896  \n",
       "84  0.783467  0.719137  0.885417  0.857933   0.897800   0.917020  \n",
       "\n",
       "[85 rows x 39 columns]"
      ]
     },
     "execution_count": 2,
     "metadata": {},
     "output_type": "execute_result"
    }
   ],
   "source": [
    "data=pd.read_excel('Resamples.xlsx', index=False)\n",
    "data"
   ]
  },
  {
   "cell_type": "code",
   "execution_count": 3,
   "metadata": {},
   "outputs": [
    {
     "data": {
      "text/html": [
       "<div>\n",
       "<style scoped>\n",
       "    .dataframe tbody tr th:only-of-type {\n",
       "        vertical-align: middle;\n",
       "    }\n",
       "\n",
       "    .dataframe tbody tr th {\n",
       "        vertical-align: top;\n",
       "    }\n",
       "\n",
       "    .dataframe thead th {\n",
       "        text-align: right;\n",
       "    }\n",
       "</style>\n",
       "<table border=\"1\" class=\"dataframe\">\n",
       "  <thead>\n",
       "    <tr style=\"text-align: right;\">\n",
       "      <th></th>\n",
       "      <th>BOSS</th>\n",
       "      <th>BoP</th>\n",
       "    </tr>\n",
       "  </thead>\n",
       "  <tbody>\n",
       "    <tr>\n",
       "      <th>0</th>\n",
       "      <td>0.749412</td>\n",
       "      <td>0.591611</td>\n",
       "    </tr>\n",
       "    <tr>\n",
       "      <th>1</th>\n",
       "      <td>0.875200</td>\n",
       "      <td>0.767086</td>\n",
       "    </tr>\n",
       "    <tr>\n",
       "      <th>2</th>\n",
       "      <td>0.615000</td>\n",
       "      <td>0.503000</td>\n",
       "    </tr>\n",
       "    <tr>\n",
       "      <th>3</th>\n",
       "      <td>0.948500</td>\n",
       "      <td>0.845000</td>\n",
       "    </tr>\n",
       "    <tr>\n",
       "      <th>4</th>\n",
       "      <td>0.984000</td>\n",
       "      <td>0.852000</td>\n",
       "    </tr>\n",
       "    <tr>\n",
       "      <th>...</th>\n",
       "      <td>...</td>\n",
       "      <td>...</td>\n",
       "    </tr>\n",
       "    <tr>\n",
       "      <th>80</th>\n",
       "      <td>0.911667</td>\n",
       "      <td>0.894444</td>\n",
       "    </tr>\n",
       "    <tr>\n",
       "      <th>81</th>\n",
       "      <td>0.658762</td>\n",
       "      <td>0.522837</td>\n",
       "    </tr>\n",
       "    <tr>\n",
       "      <th>82</th>\n",
       "      <td>0.734935</td>\n",
       "      <td>0.617273</td>\n",
       "    </tr>\n",
       "    <tr>\n",
       "      <th>83</th>\n",
       "      <td>0.809740</td>\n",
       "      <td>0.744286</td>\n",
       "    </tr>\n",
       "    <tr>\n",
       "      <th>84</th>\n",
       "      <td>0.909940</td>\n",
       "      <td>0.861860</td>\n",
       "    </tr>\n",
       "  </tbody>\n",
       "</table>\n",
       "<p>85 rows × 2 columns</p>\n",
       "</div>"
      ],
      "text/plain": [
       "        BOSS       BoP\n",
       "0   0.749412  0.591611\n",
       "1   0.875200  0.767086\n",
       "2   0.615000  0.503000\n",
       "3   0.948500  0.845000\n",
       "4   0.984000  0.852000\n",
       "..       ...       ...\n",
       "80  0.911667  0.894444\n",
       "81  0.658762  0.522837\n",
       "82  0.734935  0.617273\n",
       "83  0.809740  0.744286\n",
       "84  0.909940  0.861860\n",
       "\n",
       "[85 rows x 2 columns]"
      ]
     },
     "execution_count": 3,
     "metadata": {},
     "output_type": "execute_result"
    }
   ],
   "source": [
    "data_subset=data[['BOSS', 'BoP']]\n",
    "data_subset"
   ]
  },
  {
   "cell_type": "code",
   "execution_count": 4,
   "metadata": {},
   "outputs": [
    {
     "name": "stdout",
     "output_type": "stream",
     "text": [
      "The mean of BOSS is 0.8334602488588239 and BoP is 0.7462098589058823\n"
     ]
    }
   ],
   "source": [
    "BOSS_mean=data['BOSS'].mean()\n",
    "BoP_mean=data['BoP'].mean()\n",
    "\n",
    "print ('The mean of BOSS is {} and BoP is {}'.format(BOSS_mean, BoP_mean))"
   ]
  },
  {
   "cell_type": "code",
   "execution_count": 5,
   "metadata": {},
   "outputs": [
    {
     "data": {
      "text/html": [
       "<div>\n",
       "<style scoped>\n",
       "    .dataframe tbody tr th:only-of-type {\n",
       "        vertical-align: middle;\n",
       "    }\n",
       "\n",
       "    .dataframe tbody tr th {\n",
       "        vertical-align: top;\n",
       "    }\n",
       "\n",
       "    .dataframe thead th {\n",
       "        text-align: right;\n",
       "    }\n",
       "</style>\n",
       "<table border=\"1\" class=\"dataframe\">\n",
       "  <thead>\n",
       "    <tr style=\"text-align: right;\">\n",
       "      <th></th>\n",
       "      <th>BOSS</th>\n",
       "      <th>BoP</th>\n",
       "    </tr>\n",
       "  </thead>\n",
       "  <tbody>\n",
       "    <tr>\n",
       "      <th>count</th>\n",
       "      <td>85.000000</td>\n",
       "      <td>85.000000</td>\n",
       "    </tr>\n",
       "    <tr>\n",
       "      <th>mean</th>\n",
       "      <td>0.833460</td>\n",
       "      <td>0.746210</td>\n",
       "    </tr>\n",
       "    <tr>\n",
       "      <th>std</th>\n",
       "      <td>0.148376</td>\n",
       "      <td>0.169548</td>\n",
       "    </tr>\n",
       "    <tr>\n",
       "      <th>min</th>\n",
       "      <td>0.256187</td>\n",
       "      <td>0.148012</td>\n",
       "    </tr>\n",
       "    <tr>\n",
       "      <th>25%</th>\n",
       "      <td>0.750240</td>\n",
       "      <td>0.617273</td>\n",
       "    </tr>\n",
       "    <tr>\n",
       "      <th>50%</th>\n",
       "      <td>0.867388</td>\n",
       "      <td>0.767086</td>\n",
       "    </tr>\n",
       "    <tr>\n",
       "      <th>75%</th>\n",
       "      <td>0.950600</td>\n",
       "      <td>0.888434</td>\n",
       "    </tr>\n",
       "    <tr>\n",
       "      <th>max</th>\n",
       "      <td>1.000000</td>\n",
       "      <td>0.996572</td>\n",
       "    </tr>\n",
       "  </tbody>\n",
       "</table>\n",
       "</div>"
      ],
      "text/plain": [
       "            BOSS        BoP\n",
       "count  85.000000  85.000000\n",
       "mean    0.833460   0.746210\n",
       "std     0.148376   0.169548\n",
       "min     0.256187   0.148012\n",
       "25%     0.750240   0.617273\n",
       "50%     0.867388   0.767086\n",
       "75%     0.950600   0.888434\n",
       "max     1.000000   0.996572"
      ]
     },
     "execution_count": 5,
     "metadata": {},
     "output_type": "execute_result"
    }
   ],
   "source": [
    "data_subset.describe()"
   ]
  },
  {
   "cell_type": "code",
   "execution_count": 6,
   "metadata": {},
   "outputs": [
    {
     "data": {
      "text/plain": [
       "Text(0.5, 0, 'Models')"
      ]
     },
     "execution_count": 6,
     "metadata": {},
     "output_type": "execute_result"
    },
    {
     "data": {
      "image/png": "[encoded data removed]",
      "text/plain": [
       "<Figure size 432x288 with 1 Axes>"
      ]
     },
     "metadata": {
      "needs_background": "light"
     },
     "output_type": "display_data"
    }
   ],
   "source": [
    "data.boxplot(column=['BOSS', 'BoP'],grid=False, rot=45, fontsize=15, showmeans=True)\n",
    "plt.ylabel(\"Accuracy\", size=14)\n",
    "plt.xlabel(\"Models\", size=14)"
   ]
  },
  {
   "cell_type": "code",
   "execution_count": 7,
   "metadata": {},
   "outputs": [
    {
     "data": {
      "image/png": "[encoded data removed]",
      "text/plain": [
       "<Figure size 432x288 with 1 Axes>"
      ]
     },
     "metadata": {
      "needs_background": "light"
     },
     "output_type": "display_data"
    }
   ],
   "source": [
    "pyplot.hist(data['BOSS'])\n",
    "pyplot.show()"
   ]
  },
  {
   "cell_type": "code",
   "execution_count": 8,
   "metadata": {},
   "outputs": [
    {
     "data": {
      "image/png": "[encoded data removed]",
      "text/plain": [
       "<Figure size 432x288 with 1 Axes>"
      ]
     },
     "metadata": {
      "needs_background": "light"
     },
     "output_type": "display_data"
    }
   ],
   "source": [
    "pyplot.hist(data['BoP'])\n",
    "pyplot.show()"
   ]
  },
  {
   "cell_type": "code",
   "execution_count": 9,
   "metadata": {},
   "outputs": [
    {
     "data": {
      "text/plain": [
       "<matplotlib.axes._subplots.AxesSubplot at 0x1a1c1aa710>"
      ]
     },
     "execution_count": 9,
     "metadata": {},
     "output_type": "execute_result"
    },
    {
     "data": {
      "image/png": "[encoded data removed]",
      "text/plain": [
       "<Figure size 432x288 with 1 Axes>"
      ]
     },
     "metadata": {
      "needs_background": "light"
     },
     "output_type": "display_data"
    }
   ],
   "source": [
    "sns.regplot(x = \"BOSS\",\n",
    "            y = \"BoP\", \n",
    "            ci = None,\n",
    "            data = data_subset)"
   ]
  },
  {
   "cell_type": "code",
   "execution_count": 13,
   "metadata": {},
   "outputs": [
    {
     "name": "stdout",
     "output_type": "stream",
     "text": [
      "Statistics=0.928, p=0.000\n",
      "Sample does not look Gaussian (reject H0)\n"
     ]
    }
   ],
   "source": [
    "from scipy.stats import shapiro\n",
    "# normality test\n",
    "stat, p = shapiro(data_subset)\n",
    "print('Statistics=%.3f, p=%.3f' % (stat, p))\n",
    "# interpret\n",
    "alpha = 0.05\n",
    "if p > alpha:\n",
    "\tprint('Sample looks Gaussian (fail to reject H0)')\n",
    "else:\n",
    "\tprint('Sample does not look Gaussian (reject H0)')\n"
   ]
  },
  {
   "cell_type": "code",
   "execution_count": 10,
   "metadata": {},
   "outputs": [
    {
     "name": "stderr",
     "output_type": "stream",
     "text": [
      "/Users/samhas/anaconda3/lib/python3.7/site-packages/ipykernel_launcher.py:2: SettingWithCopyWarning: \n",
      "A value is trying to be set on a copy of a slice from a DataFrame.\n",
      "Try using .loc[row_indexer,col_indexer] = value instead\n",
      "\n",
      "See the caveats in the documentation: https://pandas.pydata.org/pandas-docs/stable/user_guide/indexing.html#returning-a-view-versus-a-copy\n",
      "  \n"
     ]
    },
    {
     "data": {
      "text/html": [
       "<div>\n",
       "<style scoped>\n",
       "    .dataframe tbody tr th:only-of-type {\n",
       "        vertical-align: middle;\n",
       "    }\n",
       "\n",
       "    .dataframe tbody tr th {\n",
       "        vertical-align: top;\n",
       "    }\n",
       "\n",
       "    .dataframe thead th {\n",
       "        text-align: right;\n",
       "    }\n",
       "</style>\n",
       "<table border=\"1\" class=\"dataframe\">\n",
       "  <thead>\n",
       "    <tr style=\"text-align: right;\">\n",
       "      <th></th>\n",
       "      <th>BOSS</th>\n",
       "      <th>BoP</th>\n",
       "      <th>Difference</th>\n",
       "    </tr>\n",
       "  </thead>\n",
       "  <tbody>\n",
       "    <tr>\n",
       "      <th>0</th>\n",
       "      <td>0.749412</td>\n",
       "      <td>0.591611</td>\n",
       "      <td>0.157801</td>\n",
       "    </tr>\n",
       "    <tr>\n",
       "      <th>1</th>\n",
       "      <td>0.875200</td>\n",
       "      <td>0.767086</td>\n",
       "      <td>0.108114</td>\n",
       "    </tr>\n",
       "    <tr>\n",
       "      <th>2</th>\n",
       "      <td>0.615000</td>\n",
       "      <td>0.503000</td>\n",
       "      <td>0.112000</td>\n",
       "    </tr>\n",
       "    <tr>\n",
       "      <th>3</th>\n",
       "      <td>0.948500</td>\n",
       "      <td>0.845000</td>\n",
       "      <td>0.103500</td>\n",
       "    </tr>\n",
       "    <tr>\n",
       "      <th>4</th>\n",
       "      <td>0.984000</td>\n",
       "      <td>0.852000</td>\n",
       "      <td>0.132000</td>\n",
       "    </tr>\n",
       "    <tr>\n",
       "      <th>...</th>\n",
       "      <td>...</td>\n",
       "      <td>...</td>\n",
       "      <td>...</td>\n",
       "    </tr>\n",
       "    <tr>\n",
       "      <th>80</th>\n",
       "      <td>0.911667</td>\n",
       "      <td>0.894444</td>\n",
       "      <td>0.017222</td>\n",
       "    </tr>\n",
       "    <tr>\n",
       "      <th>81</th>\n",
       "      <td>0.658762</td>\n",
       "      <td>0.522837</td>\n",
       "      <td>0.135925</td>\n",
       "    </tr>\n",
       "    <tr>\n",
       "      <th>82</th>\n",
       "      <td>0.734935</td>\n",
       "      <td>0.617273</td>\n",
       "      <td>0.117662</td>\n",
       "    </tr>\n",
       "    <tr>\n",
       "      <th>83</th>\n",
       "      <td>0.809740</td>\n",
       "      <td>0.744286</td>\n",
       "      <td>0.065455</td>\n",
       "    </tr>\n",
       "    <tr>\n",
       "      <th>84</th>\n",
       "      <td>0.909940</td>\n",
       "      <td>0.861860</td>\n",
       "      <td>0.048080</td>\n",
       "    </tr>\n",
       "  </tbody>\n",
       "</table>\n",
       "<p>85 rows × 3 columns</p>\n",
       "</div>"
      ],
      "text/plain": [
       "        BOSS       BoP  Difference\n",
       "0   0.749412  0.591611    0.157801\n",
       "1   0.875200  0.767086    0.108114\n",
       "2   0.615000  0.503000    0.112000\n",
       "3   0.948500  0.845000    0.103500\n",
       "4   0.984000  0.852000    0.132000\n",
       "..       ...       ...         ...\n",
       "80  0.911667  0.894444    0.017222\n",
       "81  0.658762  0.522837    0.135925\n",
       "82  0.734935  0.617273    0.117662\n",
       "83  0.809740  0.744286    0.065455\n",
       "84  0.909940  0.861860    0.048080\n",
       "\n",
       "[85 rows x 3 columns]"
      ]
     },
     "execution_count": 10,
     "metadata": {},
     "output_type": "execute_result"
    }
   ],
   "source": [
    "##Difference\n",
    "data_subset['Difference']=data_subset['BOSS']- data_subset['BoP']\n",
    "data_subset"
   ]
  },
  {
   "cell_type": "code",
   "execution_count": 11,
   "metadata": {},
   "outputs": [
    {
     "data": {
      "image/png": "[encoded data removed]",
      "text/plain": [
       "<Figure size 432x288 with 1 Axes>"
      ]
     },
     "metadata": {
      "needs_background": "light"
     },
     "output_type": "display_data"
    }
   ],
   "source": [
    "pyplot.hist(data_subset['Difference'])\n",
    "pyplot.show()"
   ]
  },
  {
   "cell_type": "code",
   "execution_count": 12,
   "metadata": {},
   "outputs": [
    {
     "data": {
      "image/png": "[encoded data removed]",
      "text/plain": [
       "<Figure size 432x288 with 1 Axes>"
      ]
     },
     "metadata": {
      "needs_background": "light"
     },
     "output_type": "display_data"
    }
   ],
   "source": [
    "from scipy.stats import norm\n",
    "ax = sns.distplot(data_subset['Difference'], fit=norm, kde=False)\n"
   ]
  },
  {
   "cell_type": "code",
   "execution_count": 13,
   "metadata": {},
   "outputs": [
    {
     "name": "stdout",
     "output_type": "stream",
     "text": [
      "\n",
      "The Null hypotheiss is H0 : 𝜇BOSS = 𝜇BoP\n",
      "The alternative hypotheiss is H1: 𝜇BOSS != 𝜇BoP\n",
      "\n"
     ]
    }
   ],
   "source": [
    "Hypothesis= '''\n",
    "The Null hypotheiss is H0 : 𝜇BOSS = 𝜇BoP\n",
    "The alternative hypotheiss is H1: 𝜇BOSS != 𝜇BoP\n",
    "'''\n",
    "print (Hypothesis)"
   ]
  },
  {
   "cell_type": "code",
   "execution_count": 16,
   "metadata": {},
   "outputs": [
    {
     "name": "stdout",
     "output_type": "stream",
     "text": [
      "t-value 14.01195707151901\n",
      "p-value 1.0739869175484149e-23\n",
      "we reject null hypothesis (H0) stating that there is a significant difference between the two models BOSS and BoP\n"
     ]
    }
   ],
   "source": [
    "ttest,pval = ttest_rel(data['BOSS'],data['BoP'])\n",
    "print(\"t-value\",ttest)\n",
    "print(\"p-value\",pval)\n",
    "\n",
    "if pval <0.01:\n",
    "  print(\"we reject null hypothesis (H0) stating that there is a significant difference between the two models BOSS and BoP\")\n",
    "else:\n",
    "  print(\"we accept null hypothesis\")"
   ]
  },
  {
   "cell_type": "code",
   "execution_count": null,
   "metadata": {},
   "outputs": [],
   "source": []
  }
 ],
 "metadata": {
  "kernelspec": {
   "display_name": "Python 3",
   "language": "python",
   "name": "python3"
  },
  "language_info": {
   "codemirror_mode": {
    "name": "ipython",
    "version": 3
   },
   "file_extension": ".py",
   "mimetype": "text/x-python",
   "name": "python",
   "nbconvert_exporter": "python",
   "pygments_lexer": "ipython3",
   "version": "3.8.5"
  }
 },
 "nbformat": 4,
 "nbformat_minor": 4
}
